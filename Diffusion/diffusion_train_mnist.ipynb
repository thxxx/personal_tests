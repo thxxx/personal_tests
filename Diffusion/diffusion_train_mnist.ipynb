{
 "cells": [
  {
   "cell_type": "code",
   "execution_count": 2,
   "id": "f364a861-4f97-472c-a078-ec62dc54c451",
   "metadata": {},
   "outputs": [],
   "source": [
    "import numpy as np\n",
    "from torchvision import datasets, transforms\n",
    "from PIL import Image\n",
    "from IPython.display import display\n",
    "from model.unet import Unet\n",
    "import torch\n",
    "import torch.nn as nn\n",
    "import torch.nn.functional as F\n",
    "import matplotlib.pyplot as plt\n",
    "from tqdm import tqdm\n",
    "from functools import partial\n",
    "import os"
   ]
  },
  {
   "cell_type": "code",
   "execution_count": 3,
   "id": "2c202e79-d5e5-4db8-bc5d-6e3b3600abf3",
   "metadata": {},
   "outputs": [],
   "source": [
    "device = 'cuda'\n",
    "\n",
    "unet = Unet(dim=128, mults=[1, 2, 4, 8], channel_scale=1).to(device)"
   ]
  },
  {
   "cell_type": "code",
   "execution_count": 4,
   "id": "e6f39733-de3d-4f43-a9c3-bc6d732a0163",
   "metadata": {},
   "outputs": [],
   "source": [
    "batch_size = 128\n",
    "learning_rate = 0.00005\n",
    "epochs = 1000\n",
    "total_timesteps = 1000\n",
    "beta_0 = 0.0001\n",
    "beta_T = 0.02\n",
    "sampling_steps = 1000\n",
    "output_dir = './logs_mnist_reweight'\n",
    "if not os.path.exists(output_dir):\n",
    "    os.makedirs(output_dir)\n",
    "    os.makedirs(f\"{output_dir}/valid_imgs/\")\n",
    "    os.makedirs(f\"{output_dir}/weights/\")\n",
    "\n",
    "optimizer = torch.optim.Adam(unet.parameters(), lr=learning_rate, betas=(0.9, 0.999))\n",
    "\n",
    "trainer = {\n",
    "    'train_losses': [],\n",
    "    'valid_losses': [],\n",
    "    'valid_images': [],\n",
    "}"
   ]
  },
  {
   "cell_type": "code",
   "execution_count": 5,
   "id": "70ec9724-cb68-4f7e-813c-b598c76b4269",
   "metadata": {},
   "outputs": [],
   "source": [
    "dataloader = torch.utils.data.DataLoader(\n",
    "    datasets.MNIST('./data/mnist', train=True, download=True,\n",
    "                  transform=transforms.Compose([\n",
    "                      transforms.Resize(32),\n",
    "                      transforms.ToTensor(),\n",
    "                      transforms.Lambda(lambda t: (t * 2) - 1)\n",
    "                  ])\n",
    "                 ),\n",
    "    batch_size=batch_size, shuffle=True\n",
    ")\n",
    "\n",
    "dataloader_valid = torch.utils.data.DataLoader(\n",
    "    datasets.MNIST('./data/mnist', train=False, download=True,\n",
    "                  transform=transforms.Compose([\n",
    "                      transforms.Resize(32),\n",
    "                      transforms.ToTensor(),\n",
    "                      transforms.Lambda(lambda t: (t * 2) - 1)\n",
    "                  ])\n",
    "                 ),\n",
    "    batch_size=batch_size, shuffle=False\n",
    ")\n"
   ]
  },
  {
   "cell_type": "code",
   "execution_count": 6,
   "id": "705a43d7-ca2a-4a04-bcd2-fe4f082c52ef",
   "metadata": {},
   "outputs": [
    {
     "name": "stdout",
     "output_type": "stream",
     "text": [
      "469\n",
      "79\n",
      "2\n",
      "torch.Size([128, 1, 32, 32])\n",
      "torch.Size([128])\n",
      "tensor(4)\n"
     ]
    },
    {
     "data": {
      "image/png": "[encoded data removed]",
      "text/plain": [
       "<Figure size 1200x500 with 8 Axes>"
      ]
     },
     "metadata": {},
     "output_type": "display_data"
    }
   ],
   "source": [
    "# 시각화\n",
    "def visualize(img, epoch=0):\n",
    "    if img.shape[0] == 1:\n",
    "        plt.figure(figsize=(2,2))\n",
    "        img = img.squeeze()\n",
    "        plt.imshow(img)\n",
    "        plt.show()\n",
    "    elif img.shape[0]>1 and len(img.shape)>2:\n",
    "        fig, axes = plt.subplots(2, 4, figsize=(12, 5))\n",
    "        for i, ax in enumerate(axes.flat):\n",
    "            ax.imshow(img[i].squeeze())\n",
    "            ax.axis('off')\n",
    "        plt.savefig(f'{output_dir}/valid_imgs/valid_{epoch}.png')\n",
    "        plt.show()\n",
    "        plt.close()\n",
    "\n",
    "# 데이터 체크\n",
    "print(len(dataloader)) # 데이터셋 50,000개\n",
    "print(len(dataloader_valid)) # 10,000개\n",
    "\n",
    "data = next(iter(dataloader))\n",
    "print(len(data))\n",
    "print(data[0].shape)\n",
    "print(data[1].shape)\n",
    "print(data[1][0])\n",
    "\n",
    "visualize(data[0]/2 + 0.5)"
   ]
  },
  {
   "cell_type": "code",
   "execution_count": 7,
   "id": "b8fe6df6-782f-4cda-8925-79726a9f047f",
   "metadata": {},
   "outputs": [],
   "source": [
    "def linear_beta_schedule(timesteps=1000):\n",
    "    betas = torch.linspace(beta_0, beta_T, steps=timesteps+1)\n",
    "\n",
    "    alphas = 1. - betas\n",
    "    alphas_bar = torch.cumprod(alphas, dim=0)\n",
    "\n",
    "    return betas, alphas, alphas_bar"
   ]
  },
  {
   "cell_type": "code",
   "execution_count": 8,
   "id": "5329cb6b-d41c-473f-bd03-35a2d16d3fcd",
   "metadata": {},
   "outputs": [],
   "source": [
    "betas, alphas, alphas_bar = linear_beta_schedule(total_timesteps)\n",
    "\n",
    "def x_t_sample(x_0, timesteps, noise):\n",
    "    return torch.stack([torch.sqrt(alphas_bar[t])*x_0[idx] + torch.sqrt(1-alphas_bar[t])*noise[idx] for idx, t in enumerate(timesteps)])\n",
    "\n",
    "def x_t_1_sample(x_t, timesteps, predicted_noise, z):\n",
    "    moved_mean = torch.stack([x_t[idx] - (1-alphas[t])/(torch.sqrt(1-alphas_bar[t])) * predicted_noise[idx] for idx, t in enumerate(timesteps)])\n",
    "    return torch.stack([1/torch.sqrt(alphas[t]) * moved_mean[idx] + torch.sqrt(betas[t]) * z[idx] for idx, t in enumerate(timesteps)])\n",
    "\n",
    "def write(text):\n",
    "    with open(f'{output_dir}/logs.txt', 'a') as file:\n",
    "        file.write(text)"
   ]
  },
  {
   "cell_type": "code",
   "execution_count": 9,
   "id": "9e833862-427d-4106-abff-064c9228b8be",
   "metadata": {},
   "outputs": [
    {
     "ename": "KeyboardInterrupt",
     "evalue": "",
     "output_type": "error",
     "traceback": [
      "\u001b[0;31m---------------------------------------------------------------------------\u001b[0m",
      "\u001b[0;31mKeyboardInterrupt\u001b[0m                         Traceback (most recent call last)",
      "Cell \u001b[0;32mIn[9], line 29\u001b[0m\n\u001b[1;32m     26\u001b[0m loss \u001b[38;5;241m=\u001b[39m F\u001b[38;5;241m.\u001b[39mmse_loss(added_noise, predicted_noise)\n\u001b[1;32m     28\u001b[0m loss\u001b[38;5;241m.\u001b[39mbackward()\n\u001b[0;32m---> 29\u001b[0m \u001b[43moptimizer\u001b[49m\u001b[38;5;241;43m.\u001b[39;49m\u001b[43mstep\u001b[49m\u001b[43m(\u001b[49m\u001b[43m)\u001b[49m\n\u001b[1;32m     30\u001b[0m \u001b[38;5;66;03m# tqdm_bar.update()\u001b[39;00m\n\u001b[1;32m     32\u001b[0m epoch_loss \u001b[38;5;241m+\u001b[39m\u001b[38;5;241m=\u001b[39m loss\u001b[38;5;241m.\u001b[39mcpu()\u001b[38;5;241m.\u001b[39mdetach()\u001b[38;5;241m.\u001b[39mitem()\n",
      "File \u001b[0;32m/usr/local/lib/python3.10/dist-packages/torch/optim/optimizer.py:280\u001b[0m, in \u001b[0;36mOptimizer.profile_hook_step.<locals>.wrapper\u001b[0;34m(*args, **kwargs)\u001b[0m\n\u001b[1;32m    276\u001b[0m         \u001b[38;5;28;01melse\u001b[39;00m:\n\u001b[1;32m    277\u001b[0m             \u001b[38;5;28;01mraise\u001b[39;00m \u001b[38;5;167;01mRuntimeError\u001b[39;00m(\u001b[38;5;124mf\u001b[39m\u001b[38;5;124m\"\u001b[39m\u001b[38;5;132;01m{\u001b[39;00mfunc\u001b[38;5;132;01m}\u001b[39;00m\u001b[38;5;124m must return None or a tuple of (new_args, new_kwargs),\u001b[39m\u001b[38;5;124m\"\u001b[39m\n\u001b[1;32m    278\u001b[0m                                \u001b[38;5;124mf\u001b[39m\u001b[38;5;124m\"\u001b[39m\u001b[38;5;124mbut got \u001b[39m\u001b[38;5;132;01m{\u001b[39;00mresult\u001b[38;5;132;01m}\u001b[39;00m\u001b[38;5;124m.\u001b[39m\u001b[38;5;124m\"\u001b[39m)\n\u001b[0;32m--> 280\u001b[0m out \u001b[38;5;241m=\u001b[39m \u001b[43mfunc\u001b[49m\u001b[43m(\u001b[49m\u001b[38;5;241;43m*\u001b[39;49m\u001b[43margs\u001b[49m\u001b[43m,\u001b[49m\u001b[43m \u001b[49m\u001b[38;5;241;43m*\u001b[39;49m\u001b[38;5;241;43m*\u001b[39;49m\u001b[43mkwargs\u001b[49m\u001b[43m)\u001b[49m\n\u001b[1;32m    281\u001b[0m \u001b[38;5;28mself\u001b[39m\u001b[38;5;241m.\u001b[39m_optimizer_step_code()\n\u001b[1;32m    283\u001b[0m \u001b[38;5;66;03m# call optimizer step post hooks\u001b[39;00m\n",
      "File \u001b[0;32m/usr/local/lib/python3.10/dist-packages/torch/optim/optimizer.py:33\u001b[0m, in \u001b[0;36m_use_grad_for_differentiable.<locals>._use_grad\u001b[0;34m(self, *args, **kwargs)\u001b[0m\n\u001b[1;32m     31\u001b[0m \u001b[38;5;28;01mtry\u001b[39;00m:\n\u001b[1;32m     32\u001b[0m     torch\u001b[38;5;241m.\u001b[39mset_grad_enabled(\u001b[38;5;28mself\u001b[39m\u001b[38;5;241m.\u001b[39mdefaults[\u001b[38;5;124m'\u001b[39m\u001b[38;5;124mdifferentiable\u001b[39m\u001b[38;5;124m'\u001b[39m])\n\u001b[0;32m---> 33\u001b[0m     ret \u001b[38;5;241m=\u001b[39m \u001b[43mfunc\u001b[49m\u001b[43m(\u001b[49m\u001b[38;5;28;43mself\u001b[39;49m\u001b[43m,\u001b[49m\u001b[43m \u001b[49m\u001b[38;5;241;43m*\u001b[39;49m\u001b[43margs\u001b[49m\u001b[43m,\u001b[49m\u001b[43m \u001b[49m\u001b[38;5;241;43m*\u001b[39;49m\u001b[38;5;241;43m*\u001b[39;49m\u001b[43mkwargs\u001b[49m\u001b[43m)\u001b[49m\n\u001b[1;32m     34\u001b[0m \u001b[38;5;28;01mfinally\u001b[39;00m:\n\u001b[1;32m     35\u001b[0m     torch\u001b[38;5;241m.\u001b[39mset_grad_enabled(prev_grad)\n",
      "File \u001b[0;32m/usr/local/lib/python3.10/dist-packages/torch/optim/adam.py:141\u001b[0m, in \u001b[0;36mAdam.step\u001b[0;34m(self, closure)\u001b[0m\n\u001b[1;32m    130\u001b[0m     beta1, beta2 \u001b[38;5;241m=\u001b[39m group[\u001b[38;5;124m'\u001b[39m\u001b[38;5;124mbetas\u001b[39m\u001b[38;5;124m'\u001b[39m]\n\u001b[1;32m    132\u001b[0m     \u001b[38;5;28mself\u001b[39m\u001b[38;5;241m.\u001b[39m_init_group(\n\u001b[1;32m    133\u001b[0m         group,\n\u001b[1;32m    134\u001b[0m         params_with_grad,\n\u001b[0;32m   (...)\u001b[0m\n\u001b[1;32m    138\u001b[0m         max_exp_avg_sqs,\n\u001b[1;32m    139\u001b[0m         state_steps)\n\u001b[0;32m--> 141\u001b[0m     \u001b[43madam\u001b[49m\u001b[43m(\u001b[49m\n\u001b[1;32m    142\u001b[0m \u001b[43m        \u001b[49m\u001b[43mparams_with_grad\u001b[49m\u001b[43m,\u001b[49m\n\u001b[1;32m    143\u001b[0m \u001b[43m        \u001b[49m\u001b[43mgrads\u001b[49m\u001b[43m,\u001b[49m\n\u001b[1;32m    144\u001b[0m \u001b[43m        \u001b[49m\u001b[43mexp_avgs\u001b[49m\u001b[43m,\u001b[49m\n\u001b[1;32m    145\u001b[0m \u001b[43m        \u001b[49m\u001b[43mexp_avg_sqs\u001b[49m\u001b[43m,\u001b[49m\n\u001b[1;32m    146\u001b[0m \u001b[43m        \u001b[49m\u001b[43mmax_exp_avg_sqs\u001b[49m\u001b[43m,\u001b[49m\n\u001b[1;32m    147\u001b[0m \u001b[43m        \u001b[49m\u001b[43mstate_steps\u001b[49m\u001b[43m,\u001b[49m\n\u001b[1;32m    148\u001b[0m \u001b[43m        \u001b[49m\u001b[43mamsgrad\u001b[49m\u001b[38;5;241;43m=\u001b[39;49m\u001b[43mgroup\u001b[49m\u001b[43m[\u001b[49m\u001b[38;5;124;43m'\u001b[39;49m\u001b[38;5;124;43mamsgrad\u001b[39;49m\u001b[38;5;124;43m'\u001b[39;49m\u001b[43m]\u001b[49m\u001b[43m,\u001b[49m\n\u001b[1;32m    149\u001b[0m \u001b[43m        \u001b[49m\u001b[43mbeta1\u001b[49m\u001b[38;5;241;43m=\u001b[39;49m\u001b[43mbeta1\u001b[49m\u001b[43m,\u001b[49m\n\u001b[1;32m    150\u001b[0m \u001b[43m        \u001b[49m\u001b[43mbeta2\u001b[49m\u001b[38;5;241;43m=\u001b[39;49m\u001b[43mbeta2\u001b[49m\u001b[43m,\u001b[49m\n\u001b[1;32m    151\u001b[0m \u001b[43m        \u001b[49m\u001b[43mlr\u001b[49m\u001b[38;5;241;43m=\u001b[39;49m\u001b[43mgroup\u001b[49m\u001b[43m[\u001b[49m\u001b[38;5;124;43m'\u001b[39;49m\u001b[38;5;124;43mlr\u001b[39;49m\u001b[38;5;124;43m'\u001b[39;49m\u001b[43m]\u001b[49m\u001b[43m,\u001b[49m\n\u001b[1;32m    152\u001b[0m \u001b[43m        \u001b[49m\u001b[43mweight_decay\u001b[49m\u001b[38;5;241;43m=\u001b[39;49m\u001b[43mgroup\u001b[49m\u001b[43m[\u001b[49m\u001b[38;5;124;43m'\u001b[39;49m\u001b[38;5;124;43mweight_decay\u001b[39;49m\u001b[38;5;124;43m'\u001b[39;49m\u001b[43m]\u001b[49m\u001b[43m,\u001b[49m\n\u001b[1;32m    153\u001b[0m \u001b[43m        \u001b[49m\u001b[43meps\u001b[49m\u001b[38;5;241;43m=\u001b[39;49m\u001b[43mgroup\u001b[49m\u001b[43m[\u001b[49m\u001b[38;5;124;43m'\u001b[39;49m\u001b[38;5;124;43meps\u001b[39;49m\u001b[38;5;124;43m'\u001b[39;49m\u001b[43m]\u001b[49m\u001b[43m,\u001b[49m\n\u001b[1;32m    154\u001b[0m \u001b[43m        \u001b[49m\u001b[43mmaximize\u001b[49m\u001b[38;5;241;43m=\u001b[39;49m\u001b[43mgroup\u001b[49m\u001b[43m[\u001b[49m\u001b[38;5;124;43m'\u001b[39;49m\u001b[38;5;124;43mmaximize\u001b[39;49m\u001b[38;5;124;43m'\u001b[39;49m\u001b[43m]\u001b[49m\u001b[43m,\u001b[49m\n\u001b[1;32m    155\u001b[0m \u001b[43m        \u001b[49m\u001b[43mforeach\u001b[49m\u001b[38;5;241;43m=\u001b[39;49m\u001b[43mgroup\u001b[49m\u001b[43m[\u001b[49m\u001b[38;5;124;43m'\u001b[39;49m\u001b[38;5;124;43mforeach\u001b[39;49m\u001b[38;5;124;43m'\u001b[39;49m\u001b[43m]\u001b[49m\u001b[43m,\u001b[49m\n\u001b[1;32m    156\u001b[0m \u001b[43m        \u001b[49m\u001b[43mcapturable\u001b[49m\u001b[38;5;241;43m=\u001b[39;49m\u001b[43mgroup\u001b[49m\u001b[43m[\u001b[49m\u001b[38;5;124;43m'\u001b[39;49m\u001b[38;5;124;43mcapturable\u001b[39;49m\u001b[38;5;124;43m'\u001b[39;49m\u001b[43m]\u001b[49m\u001b[43m,\u001b[49m\n\u001b[1;32m    157\u001b[0m \u001b[43m        \u001b[49m\u001b[43mdifferentiable\u001b[49m\u001b[38;5;241;43m=\u001b[39;49m\u001b[43mgroup\u001b[49m\u001b[43m[\u001b[49m\u001b[38;5;124;43m'\u001b[39;49m\u001b[38;5;124;43mdifferentiable\u001b[39;49m\u001b[38;5;124;43m'\u001b[39;49m\u001b[43m]\u001b[49m\u001b[43m,\u001b[49m\n\u001b[1;32m    158\u001b[0m \u001b[43m        \u001b[49m\u001b[43mfused\u001b[49m\u001b[38;5;241;43m=\u001b[39;49m\u001b[43mgroup\u001b[49m\u001b[43m[\u001b[49m\u001b[38;5;124;43m'\u001b[39;49m\u001b[38;5;124;43mfused\u001b[39;49m\u001b[38;5;124;43m'\u001b[39;49m\u001b[43m]\u001b[49m\u001b[43m,\u001b[49m\n\u001b[1;32m    159\u001b[0m \u001b[43m        \u001b[49m\u001b[43mgrad_scale\u001b[49m\u001b[38;5;241;43m=\u001b[39;49m\u001b[38;5;28;43mgetattr\u001b[39;49m\u001b[43m(\u001b[49m\u001b[38;5;28;43mself\u001b[39;49m\u001b[43m,\u001b[49m\u001b[43m \u001b[49m\u001b[38;5;124;43m\"\u001b[39;49m\u001b[38;5;124;43mgrad_scale\u001b[39;49m\u001b[38;5;124;43m\"\u001b[39;49m\u001b[43m,\u001b[49m\u001b[43m \u001b[49m\u001b[38;5;28;43;01mNone\u001b[39;49;00m\u001b[43m)\u001b[49m\u001b[43m,\u001b[49m\n\u001b[1;32m    160\u001b[0m \u001b[43m        \u001b[49m\u001b[43mfound_inf\u001b[49m\u001b[38;5;241;43m=\u001b[39;49m\u001b[38;5;28;43mgetattr\u001b[39;49m\u001b[43m(\u001b[49m\u001b[38;5;28;43mself\u001b[39;49m\u001b[43m,\u001b[49m\u001b[43m \u001b[49m\u001b[38;5;124;43m\"\u001b[39;49m\u001b[38;5;124;43mfound_inf\u001b[39;49m\u001b[38;5;124;43m\"\u001b[39;49m\u001b[43m,\u001b[49m\u001b[43m \u001b[49m\u001b[38;5;28;43;01mNone\u001b[39;49;00m\u001b[43m)\u001b[49m\u001b[43m,\u001b[49m\n\u001b[1;32m    161\u001b[0m \u001b[43m    \u001b[49m\u001b[43m)\u001b[49m\n\u001b[1;32m    163\u001b[0m \u001b[38;5;28;01mreturn\u001b[39;00m loss\n",
      "File \u001b[0;32m/usr/local/lib/python3.10/dist-packages/torch/optim/adam.py:281\u001b[0m, in \u001b[0;36madam\u001b[0;34m(params, grads, exp_avgs, exp_avg_sqs, max_exp_avg_sqs, state_steps, foreach, capturable, differentiable, fused, grad_scale, found_inf, amsgrad, beta1, beta2, lr, weight_decay, eps, maximize)\u001b[0m\n\u001b[1;32m    278\u001b[0m \u001b[38;5;28;01melse\u001b[39;00m:\n\u001b[1;32m    279\u001b[0m     func \u001b[38;5;241m=\u001b[39m _single_tensor_adam\n\u001b[0;32m--> 281\u001b[0m \u001b[43mfunc\u001b[49m\u001b[43m(\u001b[49m\u001b[43mparams\u001b[49m\u001b[43m,\u001b[49m\n\u001b[1;32m    282\u001b[0m \u001b[43m     \u001b[49m\u001b[43mgrads\u001b[49m\u001b[43m,\u001b[49m\n\u001b[1;32m    283\u001b[0m \u001b[43m     \u001b[49m\u001b[43mexp_avgs\u001b[49m\u001b[43m,\u001b[49m\n\u001b[1;32m    284\u001b[0m \u001b[43m     \u001b[49m\u001b[43mexp_avg_sqs\u001b[49m\u001b[43m,\u001b[49m\n\u001b[1;32m    285\u001b[0m \u001b[43m     \u001b[49m\u001b[43mmax_exp_avg_sqs\u001b[49m\u001b[43m,\u001b[49m\n\u001b[1;32m    286\u001b[0m \u001b[43m     \u001b[49m\u001b[43mstate_steps\u001b[49m\u001b[43m,\u001b[49m\n\u001b[1;32m    287\u001b[0m \u001b[43m     \u001b[49m\u001b[43mamsgrad\u001b[49m\u001b[38;5;241;43m=\u001b[39;49m\u001b[43mamsgrad\u001b[49m\u001b[43m,\u001b[49m\n\u001b[1;32m    288\u001b[0m \u001b[43m     \u001b[49m\u001b[43mbeta1\u001b[49m\u001b[38;5;241;43m=\u001b[39;49m\u001b[43mbeta1\u001b[49m\u001b[43m,\u001b[49m\n\u001b[1;32m    289\u001b[0m \u001b[43m     \u001b[49m\u001b[43mbeta2\u001b[49m\u001b[38;5;241;43m=\u001b[39;49m\u001b[43mbeta2\u001b[49m\u001b[43m,\u001b[49m\n\u001b[1;32m    290\u001b[0m \u001b[43m     \u001b[49m\u001b[43mlr\u001b[49m\u001b[38;5;241;43m=\u001b[39;49m\u001b[43mlr\u001b[49m\u001b[43m,\u001b[49m\n\u001b[1;32m    291\u001b[0m \u001b[43m     \u001b[49m\u001b[43mweight_decay\u001b[49m\u001b[38;5;241;43m=\u001b[39;49m\u001b[43mweight_decay\u001b[49m\u001b[43m,\u001b[49m\n\u001b[1;32m    292\u001b[0m \u001b[43m     \u001b[49m\u001b[43meps\u001b[49m\u001b[38;5;241;43m=\u001b[39;49m\u001b[43meps\u001b[49m\u001b[43m,\u001b[49m\n\u001b[1;32m    293\u001b[0m \u001b[43m     \u001b[49m\u001b[43mmaximize\u001b[49m\u001b[38;5;241;43m=\u001b[39;49m\u001b[43mmaximize\u001b[49m\u001b[43m,\u001b[49m\n\u001b[1;32m    294\u001b[0m \u001b[43m     \u001b[49m\u001b[43mcapturable\u001b[49m\u001b[38;5;241;43m=\u001b[39;49m\u001b[43mcapturable\u001b[49m\u001b[43m,\u001b[49m\n\u001b[1;32m    295\u001b[0m \u001b[43m     \u001b[49m\u001b[43mdifferentiable\u001b[49m\u001b[38;5;241;43m=\u001b[39;49m\u001b[43mdifferentiable\u001b[49m\u001b[43m,\u001b[49m\n\u001b[1;32m    296\u001b[0m \u001b[43m     \u001b[49m\u001b[43mgrad_scale\u001b[49m\u001b[38;5;241;43m=\u001b[39;49m\u001b[43mgrad_scale\u001b[49m\u001b[43m,\u001b[49m\n\u001b[1;32m    297\u001b[0m \u001b[43m     \u001b[49m\u001b[43mfound_inf\u001b[49m\u001b[38;5;241;43m=\u001b[39;49m\u001b[43mfound_inf\u001b[49m\u001b[43m)\u001b[49m\n",
      "File \u001b[0;32m/usr/local/lib/python3.10/dist-packages/torch/optim/adam.py:446\u001b[0m, in \u001b[0;36m_multi_tensor_adam\u001b[0;34m(params, grads, exp_avgs, exp_avg_sqs, max_exp_avg_sqs, state_steps, grad_scale, found_inf, amsgrad, beta1, beta2, lr, weight_decay, eps, maximize, capturable, differentiable)\u001b[0m\n\u001b[1;32m    444\u001b[0m \u001b[38;5;66;03m# Decay the first and second moment running average coefficient\u001b[39;00m\n\u001b[1;32m    445\u001b[0m torch\u001b[38;5;241m.\u001b[39m_foreach_mul_(device_exp_avgs, beta1)\n\u001b[0;32m--> 446\u001b[0m \u001b[43mtorch\u001b[49m\u001b[38;5;241;43m.\u001b[39;49m\u001b[43m_foreach_add_\u001b[49m\u001b[43m(\u001b[49m\u001b[43mdevice_exp_avgs\u001b[49m\u001b[43m,\u001b[49m\u001b[43m \u001b[49m\u001b[43mdevice_grads\u001b[49m\u001b[43m,\u001b[49m\u001b[43m \u001b[49m\u001b[43malpha\u001b[49m\u001b[38;5;241;43m=\u001b[39;49m\u001b[38;5;241;43m1\u001b[39;49m\u001b[43m \u001b[49m\u001b[38;5;241;43m-\u001b[39;49m\u001b[43m \u001b[49m\u001b[43mbeta1\u001b[49m\u001b[43m)\u001b[49m\n\u001b[1;32m    448\u001b[0m torch\u001b[38;5;241m.\u001b[39m_foreach_mul_(device_exp_avg_sqs, beta2)\n\u001b[1;32m    449\u001b[0m torch\u001b[38;5;241m.\u001b[39m_foreach_addcmul_(device_exp_avg_sqs, device_grads, device_grads, \u001b[38;5;241m1\u001b[39m \u001b[38;5;241m-\u001b[39m beta2)\n",
      "\u001b[0;31mKeyboardInterrupt\u001b[0m: "
     ]
    }
   ],
   "source": [
    "from datetime import datetime\n",
    "write(f\"\\n\\nTraining start : {datetime.today().strftime('%Y-%m-%d %H:%M')}\\n\\n\")\n",
    "\n",
    "for epoch in range(epochs):\n",
    "    unet.train()\n",
    "    epoch_loss = 0\n",
    "    # tqdm_bar = tqdm(total=len(dataloader), desc=\"Diffusion Training\")\n",
    "    \n",
    "    for idx, data in enumerate(dataloader):\n",
    "        optimizer.zero_grad()\n",
    "        \n",
    "        x_0 = data[0].to(device)\n",
    "        b, c, h, w = x_0.shape\n",
    "                \n",
    "        timesteps = torch.randint(0, 1001, (b,))\n",
    "        added_noise = torch.randn_like(x_0)\n",
    "        \n",
    "        x_t = x_t_sample(x_0, timesteps, added_noise)\n",
    "\n",
    "        x_t = x_t.to(device)\n",
    "        timesteps = timesteps.to(device)\n",
    "        added_noise = added_noise.to(device)\n",
    "\n",
    "        predicted_noise = unet(x_t, timesteps)\n",
    "            \n",
    "        loss = F.mse_loss(added_noise, predicted_noise)\n",
    "\n",
    "        loss.backward()\n",
    "        optimizer.step()\n",
    "        # tqdm_bar.update()\n",
    "\n",
    "        epoch_loss += loss.cpu().detach().item()\n",
    "\n",
    "        if idx%100==99 and epoch>0:\n",
    "            trainer['train_losses'].append(epoch_loss/idx)\n",
    "    train_text=f'Epoch {epoch} Train loss - {epoch_loss/len(dataloader)}\\n'\n",
    "    write(train_text)\n",
    "    \n",
    "    del loss\n",
    "    del predicted_noise\n",
    "    del added_noise\n",
    "    del timesteps\n",
    "    del x_t\n",
    "    torch.cuda.empty_cache()\n",
    "\n",
    "    unet.eval()\n",
    "    valid_loss = 0\n",
    "    # tqdm_bar = tqdm(total=len(dataloader_valid), desc=\"Diffusion validation\")\n",
    "    do_clip = partial(torch.clamp, min = -1., max = 1.)\n",
    "    with torch.no_grad():\n",
    "        for idx, data in enumerate(dataloader_valid):\n",
    "            x_0 = data[0].to(device)\n",
    "            b, c, h, w = x_0.shape\n",
    "            \n",
    "            timesteps = torch.randint(0, 1001, (b,))\n",
    "            added_noise = torch.randn_like(x_0)\n",
    "            \n",
    "            x_t = x_t_sample(x_0, timesteps, added_noise)\n",
    "    \n",
    "            x_t = x_t.to(device)\n",
    "            timesteps = timesteps.to(device)\n",
    "            added_noise = added_noise.to(device)\n",
    "    \n",
    "            predicted_noise = unet(x_t, timesteps)\n",
    "\n",
    "            loss = F.mse_loss(added_noise, predicted_noise)\n",
    "            valid_loss += loss.cpu().detach().item()\n",
    "            # tqdm_bar.update()  \n",
    "\n",
    "            if idx==0:\n",
    "                # Inference Sampling\n",
    "                x_t = torch.randn_like(x_0).to(device)\n",
    "                for t in range(sampling_steps+1):\n",
    "                    t = 1000 - t\n",
    "                    timesteps = torch.tensor(t).repeat(b).to(device)\n",
    "                    z = torch.randn_like(x_0)\n",
    "                    predicted_noise = unet(x_t, timesteps)\n",
    "                    \n",
    "                    x_t_1 = x_t_1_sample(x_t, timesteps, predicted_noise, z)\n",
    "                    x_t = x_t_1.to(device)\n",
    "                    x_t = do_clip(x_t)\n",
    "                trainer['valid_images'].append(x_t[:8].cpu().detach())\n",
    "        \n",
    "        del loss\n",
    "        del predicted_noise\n",
    "        del added_noise\n",
    "        del timesteps\n",
    "        del x_t\n",
    "        torch.cuda.empty_cache()\n",
    "        trainer['valid_losses'].append(valid_loss/len(dataloader_valid))\n",
    "\n",
    "    if valid_loss/len(dataloader_valid) <= min(trainer['valid_losses']):\n",
    "        torch.save(unet.state_dict(), f'{output_dir}/weights/model_{epoch}.pth')\n",
    "    valid_text=f'Epoch {epoch} Validation loss - {valid_loss/len(dataloader_valid)}\\n\\n'\n",
    "    write(valid_text)\n",
    "\n",
    "    plt.plot(trainer['train_losses'])\n",
    "    plt.savefig(f'{output_dir}/train_loss.png')\n",
    "    plt.close()\n",
    "\n",
    "    plt.plot(trainer['valid_losses'])\n",
    "    plt.savefig(f'{output_dir}/valid_loss.png')\n",
    "    plt.close()\n",
    "\n",
    "    visualize(trainer['valid_images'][-1]/2 + 0.5, epoch=epoch)"
   ]
  },
  {
   "cell_type": "code",
   "execution_count": 11,
   "id": "2da53fa1-2a43-4716-aa77-3a32ba6632b8",
   "metadata": {},
   "outputs": [
    {
     "name": "stdout",
     "output_type": "stream",
     "text": [
      "torch.Size([128, 1, 32, 32])\n",
      "torch.Size([128, 1, 32, 32])\n"
     ]
    }
   ],
   "source": [
    "print(added_noise.shape)\n",
    "print(predicted_noise.shape)"
   ]
  },
  {
   "cell_type": "code",
   "execution_count": 12,
   "id": "1ed8a8f5-79ed-465d-bc5a-9419fdae1fc2",
   "metadata": {},
   "outputs": [
    {
     "data": {
      "text/plain": [
       "tensor(0.8713, device='cuda:0', grad_fn=<MseLossBackward0>)"
      ]
     },
     "execution_count": 12,
     "metadata": {},
     "output_type": "execute_result"
    }
   ],
   "source": [
    "loss"
   ]
  },
  {
   "cell_type": "code",
   "execution_count": 15,
   "id": "2b032130-fab4-4f76-87c6-43ca12243a89",
   "metadata": {},
   "outputs": [],
   "source": [
    "tloss = 0\n",
    "for i in range(128):\n",
    "    bloss = F.mse_loss(added_noise[i], predicted_noise[i]).cpu().detach().item()\n",
    "    tloss += bloss"
   ]
  },
  {
   "cell_type": "markdown",
   "id": "97636678-9e21-4774-b1bf-fc1c6241c610",
   "metadata": {},
   "source": [
    "### Code Test"
   ]
  },
  {
   "cell_type": "code",
   "execution_count": null,
   "id": "6440f9c0-996d-4d90-a36f-3ac2e8388ae1",
   "metadata": {},
   "outputs": [],
   "source": [
    "x_0 = data[0]\n",
    "print(x_0.shape)\n",
    "b, c, h, w = x_0.shape\n",
    "timesteps = torch.randint(0, 1000, (b,))\n",
    "print(timesteps.shape)\n",
    "\n",
    "added_noise = torch.randn_like(x_0)\n",
    "print(added_noise.shape)"
   ]
  },
  {
   "cell_type": "code",
   "execution_count": null,
   "id": "727ffcf2-5ccd-432c-a898-34e4459f2425",
   "metadata": {},
   "outputs": [],
   "source": [
    "x_t = x_t_sample(x_0, timesteps, added_noise)\n",
    "x_t.shape"
   ]
  },
  {
   "cell_type": "code",
   "execution_count": null,
   "id": "2497fced-695b-45cf-9234-6f8701b1a8c0",
   "metadata": {},
   "outputs": [],
   "source": [
    "x_t = x_t.to(device)\n",
    "timesteps = timesteps.to(device)\n",
    "predicted_noise = unet(x_t, timesteps)"
   ]
  },
  {
   "cell_type": "code",
   "execution_count": null,
   "id": "f95ab9f5-9c57-497e-873e-6ae7cb26b9fb",
   "metadata": {},
   "outputs": [],
   "source": [
    "added_noise = added_noise.to(device)\n",
    "\n",
    "loss = F.mse_loss(added_noise, predicted_noise)\n",
    "print(loss)"
   ]
  },
  {
   "cell_type": "code",
   "execution_count": null,
   "id": "c335e8f1-91c9-457d-bd9b-7546f3151d71",
   "metadata": {},
   "outputs": [],
   "source": []
  },
  {
   "cell_type": "code",
   "execution_count": null,
   "id": "8120a226-13ff-4aec-8d70-4c544544e59f",
   "metadata": {},
   "outputs": [],
   "source": []
  },
  {
   "cell_type": "code",
   "execution_count": null,
   "id": "e5354a65-7f5a-468f-a340-63a9a4ac2059",
   "metadata": {},
   "outputs": [],
   "source": [
    "def x_t_1_sample(x_t, timesteps, predicted_noise, z):\n",
    "    moved_mean = torch.stack([x_t[idx] - (1-alphas[t])/(torch.sqrt(1-alphas_bar[t])) * predicted_noise[idx] for idx, t in enumerate(timesteps)])\n",
    "    return torch.stack([1/torch.sqrt(alphas[t]) * moved_mean[idx] + torch.sqrt(betas[t]) * z[idx] for idx, t in enumerate(timesteps)])"
   ]
  },
  {
   "cell_type": "code",
   "execution_count": null,
   "id": "5f19e85d-d15f-411b-a0fb-9a0aab66f8d6",
   "metadata": {},
   "outputs": [],
   "source": [
    "x_0 = data[0]\n",
    "print(x_0.shape)\n",
    "b, c, h, w = x_0.shape\n",
    "do_clip = partial(torch.clamp, min = -1., max = 1.)\n",
    "\n",
    "\n",
    "x_T = torch.randn_like(x_0).to(device)\n",
    "for t in tqdm(range(sampling_steps)):\n",
    "    t=999-t\n",
    "    timesteps = torch.tensor(t).repeat(b).to(device)\n",
    "    z = torch.randn_like(x_0)\n",
    "    predicted_noise = unet(x_T, timesteps)\n",
    "    \n",
    "    x_t_1 = x_t_1_sample(x_T, timesteps, predicted_noise, z.to(device))\n",
    "    x_T = x_t_1.to(device)\n",
    "    x_T = do_clip(x_T)"
   ]
  },
  {
   "cell_type": "code",
   "execution_count": null,
   "id": "98a60ba9-573f-47ff-ab1b-9955bd58e8d2",
   "metadata": {},
   "outputs": [],
   "source": [
    "print(1)"
   ]
  },
  {
   "cell_type": "code",
   "execution_count": null,
   "id": "fd6b08ee-c496-4493-98d6-9033177d8170",
   "metadata": {},
   "outputs": [],
   "source": [
    "visualize(x_T.cpu().detach()/2+0.5)"
   ]
  },
  {
   "cell_type": "code",
   "execution_count": null,
   "id": "0ed4ee03-f0a3-4674-b32a-662a9302fc56",
   "metadata": {},
   "outputs": [],
   "source": [
    "x_T[:8].shape"
   ]
  },
  {
   "cell_type": "code",
   "execution_count": null,
   "id": "539e7178-fd86-4e79-af1e-e5442a236675",
   "metadata": {},
   "outputs": [],
   "source": []
  }
 ],
 "metadata": {
  "kernelspec": {
   "display_name": "Python 3 (ipykernel)",
   "language": "python",
   "name": "python3"
  },
  "language_info": {
   "codemirror_mode": {
    "name": "ipython",
    "version": 3
   },
   "file_extension": ".py",
   "mimetype": "text/x-python",
   "name": "python",
   "nbconvert_exporter": "python",
   "pygments_lexer": "ipython3",
   "version": "3.10.12"
  }
 },
 "nbformat": 4,
 "nbformat_minor": 5
}
