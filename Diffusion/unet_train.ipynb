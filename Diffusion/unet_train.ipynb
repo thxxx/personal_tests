{
 "cells": [
  {
   "cell_type": "code",
   "execution_count": null,
   "id": "b918420f-7b1b-43fc-bbc5-783d7e594e2e",
   "metadata": {},
   "outputs": [],
   "source": [
    "from model.unet import Unet\n",
    "import torch\n",
    "import torch.nn as nn"
   ]
  },
  {
   "cell_type": "code",
   "execution_count": null,
   "id": "c3535bb5-6068-4fb4-a9db-2d637b39b027",
   "metadata": {},
   "outputs": [],
   "source": [
    "from unet_datasets.dataset import Dataset, Normalization, RandomFlip, ToTensor\n",
    "from torchvision import datasets, transforms\n",
    "from PIL import Image\n",
    "import numpy as np\n",
    "from IPython.display import display\n",
    "\n",
    "transformss = transforms.Compose([Normalization(mean=0.5, std=0.5), RandomFlip(), ToTensor()])\n",
    "\n",
    "data_set = Dataset(\"./unet_datasets/train\", transform=transformss)\n",
    "data_set_val = Dataset(\"./unet_datasets/val\", transform=transformss)\n",
    "\n",
    "timg = Image.fromarray(np.load('./unet_datasets/train/input_000.npy'))\n",
    "display(timg)\n",
    "\n",
    "valimg = Image.fromarray(np.load('./unet_datasets/train/label_000.npy'))\n",
    "display(valimg)"
   ]
  },
  {
   "cell_type": "code",
   "execution_count": null,
   "id": "2f27fdfc-a890-4f00-99ee-2877836bc29d",
   "metadata": {},
   "outputs": [],
   "source": [
    "dataloader = torch.utils.data.DataLoader(data_set, batch_size=4, shuffle=True)\n",
    "dataloader_val = torch.utils.data.DataLoader(data_set_val, batch_size=2, shuffle=True)"
   ]
  },
  {
   "cell_type": "code",
   "execution_count": null,
   "id": "7115608f-f543-4c93-9798-48b4c68c6ae8",
   "metadata": {},
   "outputs": [],
   "source": [
    "device = \"cuda\"\n",
    "bs=4\n",
    "lr=0.0005\n",
    "epochs=100\n",
    "\n",
    "unet = Unet(dim=64, mults=[1, 2, 4, 8], channel_scale=1).to(device)\n",
    "optimizer = torch.optim.Adam(unet.parameters(), lr=lr)\n",
    "criterion = nn.BCEWithLogitsLoss().to(device)\n",
    "\n",
    "trainer = {\n",
    "    'train_loss': [],\n",
    "    'valid_loss': [],\n",
    "    'valid_images': []\n",
    "}"
   ]
  },
  {
   "cell_type": "code",
   "execution_count": null,
   "id": "55664f3b-d333-4045-9a18-e6093386e0e9",
   "metadata": {},
   "outputs": [],
   "source": [
    "# time = torch.tensor(1, device=device).unsqueeze(0).repeat(bs)\n",
    "# data = next(iter(dataloader))\n",
    "# inputs = data['input'].to(device)\n",
    "\n",
    "# print(inputs.shape, time.shape)\n",
    "\n",
    "# out = unet(inputs, time)\n",
    "# print(out.shape)"
   ]
  },
  {
   "cell_type": "code",
   "execution_count": null,
   "id": "6108c98e-697c-43cb-bee8-da7dc86d7c41",
   "metadata": {},
   "outputs": [],
   "source": [
    "def visualize_output(out):\n",
    "    array = out[0].cpu().detach().numpy()\n",
    "    normalized_array = (array - array.min()) / (array.max() - array.min()) * 255\n",
    "    normalized_array = normalized_array.astype(np.uint8)\n",
    "    image = Image.fromarray(normalized_array[0])\n",
    "    display(image)"
   ]
  },
  {
   "cell_type": "code",
   "execution_count": null,
   "id": "6c019f0c-6525-4810-b51b-5013e8935a6b",
   "metadata": {},
   "outputs": [],
   "source": [
    "from tqdm import tqdm\n",
    "\n",
    "torch.cuda.empty_cache()\n",
    "for epoch in range(epochs):\n",
    "    unet.train()\n",
    "    epoch_loss = 0\n",
    "    time = torch.tensor(1, device=device).unsqueeze(0).repeat(4)\n",
    "    for idx, data in tqdm(enumerate(dataloader)):\n",
    "        unet.zero_grad()\n",
    "        \n",
    "        inputs = data['input'].to(device)\n",
    "        labels = data['label'].to(device)\n",
    "        \n",
    "        output = unet(inputs, time)\n",
    "\n",
    "        # backward pass\n",
    "        optimizer.zero_grad()\n",
    "\n",
    "        # print(f\"output : {output.shape}, labels : {labels.shape}\")\n",
    "        loss = criterion(output, labels)\n",
    "        loss.backward()\n",
    "\n",
    "        optimizer.step()\n",
    "        # print(loss.cpu().detach().item())\n",
    "\n",
    "        epoch_loss += loss.cpu().detach().item()\n",
    "\n",
    "    print(f\"Epoch {epoch} - Train Loss : {epoch_loss}\")\n",
    "    trainer['train_loss'].append(epoch_loss)\n",
    "\n",
    "    with torch.no_grad():\n",
    "        unet.eval()\n",
    "        valid_loss = 0\n",
    "        for idx, data in tqdm(enumerate(dataloader_val)):\n",
    "            inputs = data['input'].to(device)\n",
    "            labels = data['label'].to(device)\n",
    "            time = torch.tensor(1, device=device).unsqueeze(0).repeat(inputs.shape[0])\n",
    "            \n",
    "            output = unet(inputs, time)\n",
    "    \n",
    "            # backward pass\n",
    "            optimizer.zero_grad()\n",
    "            loss = criterion(output, labels)\n",
    "            \n",
    "            valid_loss += loss.cpu().detach().item()\n",
    "    \n",
    "        print(f\"Epoch {epoch} - Valid Loss : {valid_loss}\")\n",
    "        visualize_output(output)\n",
    "    trainer['valid_loss'].append(valid_loss)\n",
    "    torch.cuda.empty_cache()"
   ]
  },
  {
   "cell_type": "code",
   "execution_count": null,
   "id": "4f4c44a9-1983-4415-99c5-4b0b05654fa3",
   "metadata": {},
   "outputs": [],
   "source": [
    "import matplotlib.pyplot as plt\n",
    "\n",
    "plt.plot(trainer['train_loss'])\n",
    "plt.show()\n",
    "plt.close()\n",
    "\n",
    "plt.plot(trainer['valid_loss'])\n",
    "plt.show()\n",
    "plt.close()"
   ]
  },
  {
   "cell_type": "code",
   "execution_count": null,
   "id": "f2776340-b4f5-4efd-91a4-11126cb67874",
   "metadata": {},
   "outputs": [],
   "source": []
  }
 ],
 "metadata": {
  "kernelspec": {
   "display_name": "Python 3 (ipykernel)",
   "language": "python",
   "name": "python3"
  },
  "language_info": {
   "codemirror_mode": {
    "name": "ipython",
    "version": 3
   },
   "file_extension": ".py",
   "mimetype": "text/x-python",
   "name": "python",
   "nbconvert_exporter": "python",
   "pygments_lexer": "ipython3",
   "version": "3.10.12"
  }
 },
 "nbformat": 4,
 "nbformat_minor": 5
}
