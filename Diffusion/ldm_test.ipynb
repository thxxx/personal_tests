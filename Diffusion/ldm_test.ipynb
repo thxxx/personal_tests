{
 "cells": [
  {
   "cell_type": "code",
   "execution_count": null,
   "id": "3abcfeca-946e-497c-bebc-61cfbef3e299",
   "metadata": {},
   "outputs": [],
   "source": [
    "from diffusers import AutoencoderKL"
   ]
  },
  {
   "cell_type": "code",
   "execution_count": null,
   "id": "bbb87e27-660b-4faa-a46b-a7a9859a8a7e",
   "metadata": {},
   "outputs": [],
   "source": [
    "akl = AutoencoderKL.from_pretrained(\"CompVis/stable-diffusion-v1-4\", subfolder=\"vae\").to('cuda')"
   ]
  },
  {
   "cell_type": "code",
   "execution_count": null,
   "id": "2e07f122-6f9a-439f-8074-da4428100800",
   "metadata": {},
   "outputs": [],
   "source": [
    "from PIL import Image\n",
    "from torchvision import transforms\n",
    "\n",
    "img = Image.open(\"./celeb/29992.jpg\")\n",
    "img = transforms.ToTensor()(img)\n",
    "print(img.shape)"
   ]
  },
  {
   "cell_type": "code",
   "execution_count": null,
   "id": "e938e05d-4f9d-42fa-86de-607334ab8bbf",
   "metadata": {},
   "outputs": [],
   "source": [
    "import matplotlib.pyplot as plt\n",
    "\n",
    "# 이미지 표시\n",
    "plt.imshow(img.permute(1,2,0).numpy())\n",
    "plt.axis('off')  # 축 제거\n",
    "plt.show()"
   ]
  },
  {
   "cell_type": "code",
   "execution_count": null,
   "id": "8c795e0b-cf0e-4cd4-911b-1cedbb1766f6",
   "metadata": {},
   "outputs": [],
   "source": [
    "res = akl.encode(img.unsqueeze(dim=0).to('cuda'))"
   ]
  },
  {
   "cell_type": "code",
   "execution_count": null,
   "id": "861b03d2-87d6-41ce-9503-ece18cc1a027",
   "metadata": {},
   "outputs": [],
   "source": [
    "print(res['latent_dist'].mean.shape)"
   ]
  },
  {
   "cell_type": "code",
   "execution_count": null,
   "id": "33a9fc7b-4596-48d2-a570-701cb6937dea",
   "metadata": {},
   "outputs": [],
   "source": [
    "decoded = akl.decode(res['latent_dist'].mean)"
   ]
  },
  {
   "cell_type": "code",
   "execution_count": null,
   "id": "27d32ae7-b3f2-436d-930d-a9878bb206c5",
   "metadata": {},
   "outputs": [],
   "source": [
    "decoded[0].shape"
   ]
  },
  {
   "cell_type": "code",
   "execution_count": null,
   "id": "021bc7de-15ee-4e1e-93a4-42bf63e0ec7a",
   "metadata": {},
   "outputs": [],
   "source": [
    "array = decoded[0][0].permute(1,2,0).cpu().detach().numpy()\n",
    "array.shape"
   ]
  },
  {
   "cell_type": "code",
   "execution_count": null,
   "id": "bbc81341-903c-4047-93b2-7b64705b6a86",
   "metadata": {},
   "outputs": [],
   "source": [
    "import matplotlib.pyplot as plt\n",
    "\n",
    "# 이미지 표시\n",
    "plt.imshow(array)\n",
    "plt.axis('off')  # 축 제거\n",
    "plt.show()"
   ]
  },
  {
   "cell_type": "code",
   "execution_count": null,
   "id": "b40b2fa0-756c-49fc-af4e-0b6fc96ea4e9",
   "metadata": {},
   "outputs": [],
   "source": [
    "len(res)"
   ]
  },
  {
   "cell_type": "code",
   "execution_count": null,
   "id": "da694b7b-bd8f-4eca-867a-96fbfc999d58",
   "metadata": {},
   "outputs": [],
   "source": [
    "import torch\n",
    "from ldm.autoencoder import AutoencoderKL"
   ]
  },
  {
   "cell_type": "code",
   "execution_count": null,
   "id": "7e2e8211-49fe-45af-a7d6-03860fc44b46",
   "metadata": {},
   "outputs": [],
   "source": [
    "ddconfig = {\n",
    "    \"double_z\":True,\n",
    "    \"z_channels\":16,\n",
    "    \"resolution\":256,\n",
    "    \"in_channels\":3,\n",
    "    \"out_ch\":3,\n",
    "    \"ch\":128,\n",
    "    \"ch_mult\":[1,1,2,2,4],\n",
    "    \"num_res_blocks\":2,\n",
    "    \"attn_resolutions\":[16],\n",
    "    \"dropout\":0.0,\n",
    "}\n",
    "\n",
    "lossconfig = {\n",
    "    \"target\":\".losses.LPIPSWithDiscriminator\",\n",
    "    \"params\":{\n",
    "        \"disc_start\":50001,\n",
    "        \"kl_weight\":1.0e-06,\n",
    "        \"disc_weight\":0.5\n",
    "    },\n",
    "}"
   ]
  },
  {
   "cell_type": "code",
   "execution_count": null,
   "id": "da53b6ad-fd0f-4224-8964-9a3b2bf42771",
   "metadata": {},
   "outputs": [],
   "source": [
    "akl = AutoencoderKL(embed_dim=16, ddconfig=ddconfig, lossconfig=lossconfig)"
   ]
  },
  {
   "cell_type": "code",
   "execution_count": null,
   "id": "32d62ef3-7aed-47ac-8827-ff99a2027d16",
   "metadata": {},
   "outputs": [],
   "source": []
  },
  {
   "cell_type": "code",
   "execution_count": null,
   "id": "40e27f0a-a28b-4abd-b281-769311dd1466",
   "metadata": {},
   "outputs": [],
   "source": []
  },
  {
   "cell_type": "code",
   "execution_count": null,
   "id": "59091a84-4d32-4521-b9d4-e708e6d3e6d7",
   "metadata": {},
   "outputs": [],
   "source": [
    "from PIL import Image\n",
    "from torchvision import transforms\n",
    "\n",
    "img = Image.open(\"./celeb/29992.jpg\")\n",
    "img = transforms.ToTensor()(img)"
   ]
  },
  {
   "cell_type": "code",
   "execution_count": null,
   "id": "fd0fef7c-1ccb-4e96-9680-057cdcba1ae0",
   "metadata": {},
   "outputs": [],
   "source": [
    "img.shape"
   ]
  },
  {
   "cell_type": "code",
   "execution_count": null,
   "id": "41b96a95-3137-437c-b42e-c7a1aa7f4b38",
   "metadata": {},
   "outputs": [],
   "source": [
    "latent = akl.encoder(img.unsqueeze(dim=0))\n",
    "print(latent.shape)"
   ]
  },
  {
   "cell_type": "code",
   "execution_count": null,
   "id": "12918279-afb9-499f-bc3e-b4980d85bf25",
   "metadata": {},
   "outputs": [],
   "source": [
    "res = akl(img.unsqueeze(dim=0))"
   ]
  },
  {
   "cell_type": "code",
   "execution_count": null,
   "id": "fb3769c1-6276-4304-ace5-0c3b6db98589",
   "metadata": {},
   "outputs": [],
   "source": [
    "array = res[0][0].permute(1,2,0).detach().numpy()"
   ]
  },
  {
   "cell_type": "code",
   "execution_count": null,
   "id": "3c956e8c-cff2-48a1-8889-64d65ffba849",
   "metadata": {},
   "outputs": [],
   "source": []
  },
  {
   "cell_type": "code",
   "execution_count": null,
   "id": "94502f93-b7f6-4ccc-a4d8-a2319381e0c5",
   "metadata": {},
   "outputs": [],
   "source": []
  },
  {
   "cell_type": "code",
   "execution_count": null,
   "id": "b9e35ecc-fccf-4869-816e-f56077f45225",
   "metadata": {},
   "outputs": [],
   "source": [
    "from model.unet import Unet\n",
    "\n",
    "\n",
    "unet = Unet(dim=128, mults=[1, 2, 2, 4], channel_scale=4).to(device)"
   ]
  },
  {
   "cell_type": "code",
   "execution_count": null,
   "id": "46a433a3-19ab-43c0-88f7-7cd8ebb1fc14",
   "metadata": {},
   "outputs": [],
   "source": []
  },
  {
   "cell_type": "code",
   "execution_count": null,
   "id": "0613a709-4ff5-4aa9-b8c1-cfe7a47428e0",
   "metadata": {},
   "outputs": [],
   "source": [
    "def linear_beta_schedule(timesteps=1000):\n",
    "    betas = torch.linspace(beta_0, beta_T, steps=timesteps+1)\n",
    "\n",
    "    alphas = 1. - betas\n",
    "    alphas_bar = torch.cumprod(alphas, dim=0)\n",
    "\n",
    "    return betas, alphas, alphas_bar"
   ]
  },
  {
   "cell_type": "code",
   "execution_count": null,
   "id": "885b385d-ed68-4852-867f-5f7f2148cadd",
   "metadata": {},
   "outputs": [],
   "source": [
    "batch_size = 128\n",
    "learning_rate = 0.00005\n",
    "epochs = 1000\n",
    "total_timesteps = 1000\n",
    "beta_0 = 0.0001\n",
    "beta_T = 0.02\n",
    "\n",
    "betas, alphas, alphas_bar = linear_beta_schedule(total_timesteps)\n",
    "\n",
    "def x_t_sample(x_0, timesteps, noise):\n",
    "    return torch.stack([torch.sqrt(alphas_bar[t])*x_0[idx] + torch.sqrt(1-alphas_bar[t])*noise[idx] for idx, t in enumerate(timesteps)])\n",
    "\n",
    "def x_t_1_sample(x_t, timesteps, predicted_noise, z):\n",
    "    moved_mean = torch.stack([x_t[idx] - (1-alphas[t])/(torch.sqrt(1-alphas_bar[t])) * predicted_noise[idx] for idx, t in enumerate(timesteps)])\n",
    "    return torch.stack([1/torch.sqrt(alphas[t]) * moved_mean[idx] + torch.sqrt(betas[t]) * z[idx] for idx, t in enumerate(timesteps)])"
   ]
  },
  {
   "cell_type": "code",
   "execution_count": null,
   "id": "d0a84cd9-65f2-4d44-9f3b-a04cbe394c86",
   "metadata": {},
   "outputs": [],
   "source": [
    "print(torch.max(decoded[0][0]))\n",
    "print(torch.min(decoded[0][0]))"
   ]
  },
  {
   "cell_type": "code",
   "execution_count": null,
   "id": "58275f9f-1448-401a-ad72-9c6796e1ca6e",
   "metadata": {},
   "outputs": [],
   "source": [
    "import matplotlib.pyplot as plt\n",
    "\n",
    "x_t=x_0\n",
    "for i in range(1000):\n",
    "    time = torch.tensor(i, device=device).unsqueeze(dim=0)\n",
    "    added_noise = torch.randn_like(x_0)\n",
    "    x_t = x_t_sample(x_t, time, added_noise)\n",
    "\n",
    "    if i%100==99:\n",
    "        decoded = akl.decode(x_t)\n",
    "        array = decoded[0][0].permute(1,2,0).cpu().detach().numpy()\n",
    "        # 이미지 표시\n",
    "        plt.imshow(array)\n",
    "        plt.axis('off')  # 축 제거\n",
    "        plt.show()"
   ]
  },
  {
   "cell_type": "code",
   "execution_count": null,
   "id": "8ecba7be-1ce9-4157-8ac8-cf585650e7d0",
   "metadata": {},
   "outputs": [],
   "source": [
    "array = (decoded[0][0]/2+0.5).permute(1,2,0).cpu().detach().numpy()\n",
    "# 이미지 표시\n",
    "plt.imshow(array)\n",
    "plt.axis('off')  # 축 제거\n",
    "plt.show()"
   ]
  },
  {
   "cell_type": "code",
   "execution_count": null,
   "id": "88f0e553-5339-47f4-981a-f357e0895a33",
   "metadata": {},
   "outputs": [],
   "source": []
  }
 ],
 "metadata": {
  "kernelspec": {
   "display_name": "Python 3 (ipykernel)",
   "language": "python",
   "name": "python3"
  },
  "language_info": {
   "codemirror_mode": {
    "name": "ipython",
    "version": 3
   },
   "file_extension": ".py",
   "mimetype": "text/x-python",
   "name": "python",
   "nbconvert_exporter": "python",
   "pygments_lexer": "ipython3",
   "version": "3.10.12"
  }
 },
 "nbformat": 4,
 "nbformat_minor": 5
}
